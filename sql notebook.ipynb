{
 "cells": [
  {
   "cell_type": "code",
   "execution_count": 1,
   "id": "4e4cf445",
   "metadata": {},
   "outputs": [],
   "source": [
    "import pandas as pd"
   ]
  },
  {
   "cell_type": "code",
   "execution_count": 4,
   "id": "012a3509",
   "metadata": {},
   "outputs": [
    {
     "name": "stdout",
     "output_type": "stream",
     "text": [
      "Defaulting to user installation because normal site-packages is not writeable\n",
      "\u001b[31mERROR: Could not find a version that satisfies the requirement sqlite3 (from versions: none)\u001b[0m\u001b[31m\n",
      "\u001b[0m\u001b[31mERROR: No matching distribution found for sqlite3\u001b[0m\u001b[31m\n",
      "\u001b[0m"
     ]
    }
   ],
   "source": [
    "!pip install sqlite3"
   ]
  },
  {
   "cell_type": "code",
   "execution_count": 6,
   "id": "fea2c887",
   "metadata": {},
   "outputs": [],
   "source": [
    "import sqlite3"
   ]
  },
  {
   "cell_type": "code",
   "execution_count": 7,
   "id": "d21fc091",
   "metadata": {},
   "outputs": [],
   "source": [
    "conn = sqlite3.connect('test_database') \n",
    "c = conn.cursor()\n",
    "\n",
    "c.execute('''\n",
    "          CREATE TABLE IF NOT EXISTS products\n",
    "          ([product_id] INTEGER PRIMARY KEY, [product_name] TEXT, [price] INTEGER)\n",
    "          ''')\n",
    "          \n",
    "c.execute('''\n",
    "          INSERT INTO products (product_id, product_name, price)\n",
    "\n",
    "                VALUES\n",
    "                (1,'Computer',800),\n",
    "                (2,'Printer',200),\n",
    "                (3,'Tablet',300),\n",
    "                (4,'Desk',450),\n",
    "                (5,'Chair',150)\n",
    "          ''')                     \n",
    "\n",
    "conn.commit()"
   ]
  },
  {
   "cell_type": "code",
   "execution_count": 8,
   "id": "592658d4",
   "metadata": {},
   "outputs": [
    {
     "name": "stdout",
     "output_type": "stream",
     "text": [
      "   product_id product_name  price\n",
      "0           1     Computer    800\n",
      "1           2      Printer    200\n",
      "2           3       Tablet    300\n",
      "3           4         Desk    450\n",
      "4           5        Chair    150\n"
     ]
    }
   ],
   "source": [
    "conn = sqlite3.connect('test_database') \n",
    "          \n",
    "sql_query = pd.read_sql_query ('''\n",
    "                               SELECT\n",
    "                               *\n",
    "                               FROM products\n",
    "                               ''', conn)\n",
    "\n",
    "df = pd.DataFrame(sql_query, columns = ['product_id', 'product_name', 'price'])\n",
    "print (df)\n"
   ]
  },
  {
   "cell_type": "code",
   "execution_count": 9,
   "id": "d8d0b809",
   "metadata": {},
   "outputs": [
    {
     "name": "stdout",
     "output_type": "stream",
     "text": [
      "   product_id product_name  price\n",
      "0           1     Computer    800\n",
      "1           2      Printer    200\n",
      "2           3       Tablet    300\n",
      "3           4         Desk    450\n",
      "4           5        Chair    150\n"
     ]
    }
   ],
   "source": [
    "import sqlite3\n",
    "import pandas as pd\n",
    "\n",
    "conn = sqlite3.connect('test_database') \n",
    "c = conn.cursor()\n",
    "                 \n",
    "c.execute('''\n",
    "          SELECT\n",
    "          *\n",
    "          FROM products\n",
    "          ''')\n",
    "\n",
    "df = pd.DataFrame(c.fetchall(), columns = ['product_id', 'product_name', 'price'])\n",
    "print (df)\n"
   ]
  },
  {
   "cell_type": "code",
   "execution_count": 15,
   "id": "11a59c1f",
   "metadata": {},
   "outputs": [
    {
     "ename": "NameError",
     "evalue": "name 'sql_store' is not defined",
     "output_type": "error",
     "traceback": [
      "\u001b[0;31m---------------------------------------------------------------------------\u001b[0m",
      "\u001b[0;31mNameError\u001b[0m                                 Traceback (most recent call last)",
      "\u001b[0;32m/tmp/ipykernel_13723/1468029550.py\u001b[0m in \u001b[0;36m<module>\u001b[0;34m\u001b[0m\n\u001b[1;32m      3\u001b[0m \u001b[0;34m\u001b[0m\u001b[0m\n\u001b[1;32m      4\u001b[0m \u001b[0;31m# connection == the connection to your database, in your case prob_db\u001b[0m\u001b[0;34m\u001b[0m\u001b[0;34m\u001b[0m\u001b[0m\n\u001b[0;32m----> 5\u001b[0;31m \u001b[0mDF\u001b[0m \u001b[0;34m=\u001b[0m \u001b[0mpd\u001b[0m\u001b[0;34m.\u001b[0m\u001b[0mread_sql_query\u001b[0m\u001b[0;34m(\u001b[0m\u001b[0mquery\u001b[0m\u001b[0;34m.\u001b[0m\u001b[0mread\u001b[0m\u001b[0;34m(\u001b[0m\u001b[0;34m)\u001b[0m\u001b[0;34m,\u001b[0m\u001b[0msql_store\u001b[0m\u001b[0;34m)\u001b[0m\u001b[0;34m\u001b[0m\u001b[0;34m\u001b[0m\u001b[0m\n\u001b[0m\u001b[1;32m      6\u001b[0m \u001b[0mquery\u001b[0m\u001b[0;34m.\u001b[0m\u001b[0mclose\u001b[0m\u001b[0;34m(\u001b[0m\u001b[0;34m)\u001b[0m\u001b[0;34m\u001b[0m\u001b[0;34m\u001b[0m\u001b[0m\n",
      "\u001b[0;31mNameError\u001b[0m: name 'sql_store' is not defined"
     ]
    }
   ],
   "source": [
    "# Read the sql file\n",
    "query = open('create-db-store.sql', 'r')\n",
    "\n",
    "# connection == the connection to your database, in your case prob_db\n",
    "DF = pd.read_sql_query(query.read(),sql_store)\n",
    "query.close() "
   ]
  },
  {
   "cell_type": "code",
   "execution_count": 18,
   "id": "968d1386",
   "metadata": {},
   "outputs": [
    {
     "ename": "IndentationError",
     "evalue": "unexpected indent (708409055.py, line 11)",
     "output_type": "error",
     "traceback": [
      "\u001b[0;36m  File \u001b[0;32m\"/tmp/ipykernel_13723/708409055.py\"\u001b[0;36m, line \u001b[0;32m11\u001b[0m\n\u001b[0;31m    try:\u001b[0m\n\u001b[0m    ^\u001b[0m\n\u001b[0;31mIndentationError\u001b[0m\u001b[0;31m:\u001b[0m unexpected indent\n"
     ]
    }
   ],
   "source": [
    "query = open('./create-db-store.sql.sql', 'r') \n",
    "\n",
    "db_config = {\n",
    "            'server': localhost,\n",
    "            'port': 3306,\n",
    "            'user': Melanee,\n",
    "            'password': 1111,\n",
    "            'database': meeee\n",
    "        }\n",
    "\n",
    "    try:\n",
    "        sql_conn = pymssql.connect(**db_config)\n",
    "        logging.info('SQL connection is opened')       \n",
    "        avise_me_df = pd.read_sql(query.read(),sql_conn)\n",
    "        logging.info('pandas df recorded')\n",
    "    except OperationalError as e:\n",
    "        connected = False\n",
    "\n",
    "        logging.error('Error reading data from SQL table')\n",
    "    else:\n",
    "        connected = True\n",
    "    finally:\n",
    "        if connected:\n",
    "            sql_conn.close()\n",
    "            logging.info('SQL connection is closed')"
   ]
  },
  {
   "cell_type": "code",
   "execution_count": null,
   "id": "6571aa6c",
   "metadata": {},
   "outputs": [],
   "source": []
  }
 ],
 "metadata": {
  "kernelspec": {
   "display_name": "Python 3 (ipykernel)",
   "language": "python",
   "name": "python3"
  },
  "language_info": {
   "codemirror_mode": {
    "name": "ipython",
    "version": 3
   },
   "file_extension": ".py",
   "mimetype": "text/x-python",
   "name": "python",
   "nbconvert_exporter": "python",
   "pygments_lexer": "ipython3",
   "version": "3.10.4"
  }
 },
 "nbformat": 4,
 "nbformat_minor": 5
}
